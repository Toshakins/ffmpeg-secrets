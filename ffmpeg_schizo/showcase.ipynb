{
 "cells": [
  {
   "metadata": {},
   "cell_type": "markdown",
   "source": "Зберемо відео з variable frame rate з \"плейлістом\" для демуксера вказаним нижче. Усього вісім фреймів з тривалістю 1.25 секунд плюс заключний фрейм без тривалості.",
   "id": "b4796348ae4cf366"
  },
  {
   "cell_type": "code",
   "id": "initial_id",
   "metadata": {
    "collapsed": true,
    "ExecuteTime": {
     "end_time": "2024-09-10T14:30:57.609239Z",
     "start_time": "2024-09-10T14:30:57.478112Z"
    }
   },
   "source": "! cat concat.txt",
   "outputs": [
    {
     "name": "stdout",
     "output_type": "stream",
     "text": [
      "file frames/black_frame.jpg\r\n",
      "duration 1.25\r\n",
      "file frames/white_frame.jpg\r\n",
      "duration 1.25\r\n",
      "file frames/black_frame.jpg\r\n",
      "duration 1.25\r\n",
      "file frames/white_frame.jpg\r\n",
      "duration 1.25\r\n",
      "file frames/black_frame.jpg\r\n",
      "duration 1.25\r\n",
      "file frames/white_frame.jpg\r\n",
      "duration 1.25\r\n",
      "file frames/black_frame.jpg\r\n",
      "duration 1.25\r\n",
      "file frames/white_frame.jpg\r\n",
      "duration 1.25\r\n",
      "file frames/white_frame.jpg\r\n"
     ]
    }
   ],
   "execution_count": 1
  },
  {
   "metadata": {},
   "cell_type": "markdown",
   "source": "Впевнимося що сума тривалостей в полі `duration` дорівнює десяти.",
   "id": "26b6cf426b8e5a28"
  },
  {
   "metadata": {
    "ExecuteTime": {
     "end_time": "2024-09-10T14:30:57.738584Z",
     "start_time": "2024-09-10T14:30:57.619192Z"
    }
   },
   "cell_type": "code",
   "source": "! cat concat_count.sh",
   "id": "4e69db3f74e07a53",
   "outputs": [
    {
     "name": "stdout",
     "output_type": "stream",
     "text": [
      "#!/bin/bash\r\n",
      "\r\n",
      "set -eux\r\n",
      "\r\n",
      "grep duration concat.txt | awk '{ sum += $2 } END { print sum }'\r\n"
     ]
    }
   ],
   "execution_count": 2
  },
  {
   "metadata": {
    "ExecuteTime": {
     "end_time": "2024-09-10T14:30:57.986987Z",
     "start_time": "2024-09-10T14:30:57.858239Z"
    }
   },
   "cell_type": "code",
   "source": "! bash ./concat_count.sh",
   "id": "5dcafa0819d5fe5a",
   "outputs": [
    {
     "name": "stdout",
     "output_type": "stream",
     "text": [
      "+ grep duration concat.txt\r\n",
      "+ awk '{ sum += $2 } END { print sum }'\r\n",
      "10\r\n"
     ]
    }
   ],
   "execution_count": 3
  },
  {
   "metadata": {},
   "cell_type": "markdown",
   "source": "Зберемо відео з плейліста вказаши що потрібен variable frame rate та перевіримо його тривалість з `ffprobe`.",
   "id": "25e4e1e71f6e525"
  },
  {
   "metadata": {
    "ExecuteTime": {
     "end_time": "2024-09-10T14:30:58.113558Z",
     "start_time": "2024-09-10T14:30:57.992674Z"
    }
   },
   "cell_type": "code",
   "source": "! cat ./ffconcat.sh",
   "id": "1e139ad3a3784de7",
   "outputs": [
    {
     "name": "stdout",
     "output_type": "stream",
     "text": [
      "#!/bin/bash\r\n",
      "\r\n",
      "set -eux\r\n",
      "\r\n",
      "ffmpeg -hide_banner -f concat -i concat.txt -fps_mode vfr -pix_fmt yuv420p -c:v libx264 output.mp4 -y &>/dev/null\r\n",
      "ffprobe -hide_banner -show_streams output.mp4 | grep --color \"duration=\"\r\n"
     ]
    }
   ],
   "execution_count": 4
  },
  {
   "metadata": {
    "ExecuteTime": {
     "end_time": "2024-09-10T14:30:58.591937Z",
     "start_time": "2024-09-10T14:30:58.119196Z"
    }
   },
   "cell_type": "code",
   "source": "! bash ./ffconcat.sh",
   "id": "3c05a2e59a19b47d",
   "outputs": [
    {
     "name": "stdout",
     "output_type": "stream",
     "text": [
      "+ ffmpeg -hide_banner -f concat -i concat.txt -fps_mode vfr -pix_fmt yuv420p -c:v libx264 output.mp4 -y\r\n",
      "+ ffprobe -hide_banner -show_streams output.mp4\r\n",
      "+ grep --color duration=\r\n",
      "Input #0, mov,mp4,m4a,3gp,3g2,mj2, from 'output.mp4':\r\n",
      "  Metadata:\r\n",
      "    major_brand     : isom\r\n",
      "    minor_version   : 512\r\n",
      "    compatible_brands: isomiso2avc1mp41\r\n",
      "    encoder         : Lavf61.1.100\r\n",
      "  Duration: 00:00:10.04, start: 0.000000, bitrate: 58 kb/s\r\n",
      "  Stream #0:0[0x1](und): Video: h264 (High) (avc1 / 0x31637661), yuv420p(progressive), 1920x1080 [SAR 1:1 DAR 16:9], 57 kb/s, 0.89 fps, 25 tbr, 12800 tbn (default)\r\n",
      "      Metadata:\r\n",
      "        handler_name    : VideoHandler\r\n",
      "        vendor_id       : [0][0][0][0]\r\n",
      "        encoder         : Lavc61.3.100 libx264\r\n",
      "\u001B[01;31m\u001B[Kduration=\u001B[m\u001B[K10.040000\r\n"
     ]
    }
   ],
   "execution_count": 5
  },
  {
   "metadata": {},
   "cell_type": "markdown",
   "source": "Розберемо відео на фрейми, написавши в оверлей таймстампу фрейма. Це можна зробити параметром `pts` у фільтрі `drawtext`.",
   "id": "835d4976cdf3a408"
  },
  {
   "metadata": {
    "ExecuteTime": {
     "end_time": "2024-09-10T14:30:58.723701Z",
     "start_time": "2024-09-10T14:30:58.599321Z"
    }
   },
   "cell_type": "code",
   "source": "! cat extract.sh",
   "id": "d20bbadbc803b05c",
   "outputs": [
    {
     "name": "stdout",
     "output_type": "stream",
     "text": [
      "#!/bin/bash\r\n",
      "\r\n",
      "set -eux\r\n",
      "\r\n",
      "rm -frd ./tmp\r\n",
      "mkdir -p ./tmp\r\n",
      "ffmpeg -i output.mp4 -vf \"drawtext=fontfile=arialbd.ttf:fontsize=24:fontcolor=white:box=1:boxcolor=black@0.5:boxborderw=5:x=(w-tw)/2:y=h-th-10:text='%{pts\\:hms}'\" -vsync 0 ./tmp/output_frame_%d.png\r\n"
     ]
    }
   ],
   "execution_count": 6
  },
  {
   "metadata": {
    "ExecuteTime": {
     "end_time": "2024-09-10T14:30:59.110636Z",
     "start_time": "2024-09-10T14:30:58.731517Z"
    }
   },
   "cell_type": "code",
   "source": "! bash ./extract.sh &> /dev/null",
   "id": "8085d726e2b0a75e",
   "outputs": [],
   "execution_count": 7
  },
  {
   "metadata": {},
   "cell_type": "markdown",
   "source": [
    "Таймстампи мають розбіжності з \"плейлістом\". Так, другий фрейм мав би починатись на 1.26 секунді, натомість він починається 1.24\n",
    "\n",
    "![image](./tmp/output_frame_2.png)"
   ],
   "id": "472a0ac46f25922e"
  },
  {
   "metadata": {},
   "cell_type": "markdown",
   "source": "Висновок: `ffmpeg` працює неочікувано, таймстампи не відповідають заданим тривалостям.",
   "id": "153fde79423d0d9f"
  }
 ],
 "metadata": {
  "kernelspec": {
   "display_name": "Python 3",
   "language": "python",
   "name": "python3"
  },
  "language_info": {
   "codemirror_mode": {
    "name": "ipython",
    "version": 2
   },
   "file_extension": ".py",
   "mimetype": "text/x-python",
   "name": "python",
   "nbconvert_exporter": "python",
   "pygments_lexer": "ipython2",
   "version": "2.7.6"
  }
 },
 "nbformat": 4,
 "nbformat_minor": 5
}
