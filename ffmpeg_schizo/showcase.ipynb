{
 "cells": [
  {
   "metadata": {},
   "cell_type": "markdown",
   "source": "Зберемо відео з variable frame rate з \"плейлістом\" для демуксера вказаним нижче. Усього вісім фреймів з тривалістю 1.25 секунд плюс заключний фрейм без тривалості.",
   "id": "b4796348ae4cf366"
  },
  {
   "cell_type": "code",
   "id": "initial_id",
   "metadata": {
    "collapsed": true,
    "ExecuteTime": {
     "end_time": "2024-09-10T14:18:35.601506Z",
     "start_time": "2024-09-10T14:18:35.468967Z"
    }
   },
   "source": "! cat concat.txt",
   "outputs": [
    {
     "name": "stdout",
     "output_type": "stream",
     "text": [
      "file frames/black_frame.jpg\r\n",
      "duration 1.25\r\n",
      "file frames/white_frame.jpg\r\n",
      "duration 1.25\r\n",
      "file frames/black_frame.jpg\r\n",
      "duration 1.25\r\n",
      "file frames/white_frame.jpg\r\n",
      "duration 1.25\r\n",
      "file frames/black_frame.jpg\r\n",
      "duration 1.25\r\n",
      "file frames/white_frame.jpg\r\n",
      "duration 1.25\r\n",
      "file frames/black_frame.jpg\r\n",
      "duration 1.25\r\n",
      "file frames/white_frame.jpg\r\n",
      "duration 1.25\r\n",
      "file frames/white_frame.jpg\r\n"
     ]
    }
   ],
   "execution_count": 1
  },
  {
   "metadata": {},
   "cell_type": "markdown",
   "source": "Впевнимося що сума тривалостей в полі `duration` дорівнює десяти.",
   "id": "26b6cf426b8e5a28"
  },
  {
   "metadata": {
    "ExecuteTime": {
     "end_time": "2024-09-10T14:18:35.745248Z",
     "start_time": "2024-09-10T14:18:35.614699Z"
    }
   },
   "cell_type": "code",
   "source": "! cat concat_count.sh",
   "id": "4e69db3f74e07a53",
   "outputs": [
    {
     "name": "stdout",
     "output_type": "stream",
     "text": [
      "#!/bin/bash\r\n",
      "\r\n",
      "set -eux\r\n",
      "\r\n",
      "grep duration concat.txt | awk '{ sum += $2 } END { print sum }'\r\n"
     ]
    }
   ],
   "execution_count": 2
  },
  {
   "metadata": {
    "ExecuteTime": {
     "end_time": "2024-09-10T14:18:36.012872Z",
     "start_time": "2024-09-10T14:18:35.881561Z"
    }
   },
   "cell_type": "code",
   "source": "! bash ./concat_count.sh",
   "id": "5dcafa0819d5fe5a",
   "outputs": [
    {
     "name": "stdout",
     "output_type": "stream",
     "text": [
      "+ grep duration concat.txt\r\n",
      "+ awk '{ sum += $2 } END { print sum }'\r\n",
      "10\r\n"
     ]
    }
   ],
   "execution_count": 3
  },
  {
   "metadata": {},
   "cell_type": "markdown",
   "source": "Зберемо відео з плейліста вказаши що потрібен variable frame rate та перевіримо його тривалість з `ffprobe`.",
   "id": "25e4e1e71f6e525"
  },
  {
   "metadata": {
    "ExecuteTime": {
     "end_time": "2024-09-10T14:18:36.144241Z",
     "start_time": "2024-09-10T14:18:36.020269Z"
    }
   },
   "cell_type": "code",
   "source": "! cat ./ffconcat.sh",
   "id": "1e139ad3a3784de7",
   "outputs": [
    {
     "name": "stdout",
     "output_type": "stream",
     "text": [
      "#!/bin/bash\r\n",
      "\r\n",
      "set -eux\r\n",
      "\r\n",
      "ffmpeg -hide_banner -f concat -i concat.txt -fps_mode vfr -pix_fmt yuv420p -c:v libx264 output.mp4 -y\r\n",
      "ffprobe -hide_banner -show_streams output.mp4 | grep --color \"duration=\"\r\n"
     ]
    }
   ],
   "execution_count": 4
  },
  {
   "metadata": {
    "ExecuteTime": {
     "end_time": "2024-09-10T14:18:36.622859Z",
     "start_time": "2024-09-10T14:18:36.154102Z"
    }
   },
   "cell_type": "code",
   "source": "! bash ./ffconcat.sh",
   "id": "3c05a2e59a19b47d",
   "outputs": [
    {
     "name": "stdout",
     "output_type": "stream",
     "text": [
      "+ ffmpeg -hide_banner -f concat -i concat.txt -fps_mode vfr -pix_fmt yuv420p -c:v libx264 output.mp4 -y\r\n",
      "Input #0, concat, from 'concat.txt':\r\n",
      "  Duration: N/A, start: 0.000000, bitrate: N/A\r\n",
      "  Stream #0:0: Video: mjpeg (Baseline), yuvj420p(pc, bt470bg/unknown/unknown), 1920x1080 [SAR 1:1 DAR 16:9], 25 fps, 25 tbr, 25 tbn\r\n",
      "Stream mapping:\r\n",
      "  Stream #0:0 -> #0:0 (mjpeg (native) -> h264 (libx264))\r\n",
      "Press [q] to stop, [?] for help\r\n",
      "\u001B[1;34m[swscaler @ 0x128008000] \u001B[0m\u001B[0;33mdeprecated pixel format used, make sure you did set range correctly\r\n",
      "\u001B[0m\u001B[1;34m[swscaler @ 0x118008000] \u001B[0m\u001B[0;33mdeprecated pixel format used, make sure you did set range correctly\r\n",
      "\u001B[0m\u001B[1;34m[swscaler @ 0x1300a8000] \u001B[0m\u001B[0;33mdeprecated pixel format used, make sure you did set range correctly\r\n",
      "    Last message repeated 1 timesimes\r\n",
      "\u001B[1;36m[libx264 @ 0x145007780] \u001B[0musing SAR=1/1\r\n",
      "\u001B[1;36m[libx264 @ 0x145007780] \u001B[0musing cpu capabilities: ARMv8 NEON\r\n",
      "\u001B[1;36m[libx264 @ 0x145007780] \u001B[0mprofile High, level 4.0, 4:2:0, 8-bit\r\n",
      "\u001B[1;36m[libx264 @ 0x145007780] \u001B[0m264 - core 164 r3108 31e19f9 - H.264/MPEG-4 AVC codec - Copyleft 2003-2023 - http://www.videolan.org/x264.html - options: cabac=1 ref=3 deblock=1:0:0 analyse=0x3:0x113 me=hex subme=7 psy=1 psy_rd=1.00:0.00 mixed_ref=1 me_range=16 chroma_me=1 trellis=1 8x8dct=1 cqm=0 deadzone=21,11 fast_pskip=1 chroma_qp_offset=-2 threads=15 lookahead_threads=2 sliced_threads=0 nr=0 decimate=1 interlaced=0 bluray_compat=0 constrained_intra=0 bframes=3 b_pyramid=2 b_adapt=1 b_bias=0 direct=1 weightb=1 open_gop=0 weightp=2 keyint=250 keyint_min=25 scenecut=40 intra_refresh=0 rc_lookahead=40 rc=crf mbtree=1 crf=23.0 qcomp=0.60 qpmin=0 qpmax=69 qpstep=4 ip_ratio=1.40 aq=1:1.00\r\n",
      "Output #0, mp4, to 'output.mp4':\r\n",
      "  Metadata:\r\n",
      "    encoder         : Lavf61.1.100\r\n",
      "  Stream #0:0: Video: h264 (avc1 / 0x31637661), yuv420p(progressive), 1920x1080 [SAR 1:1 DAR 16:9], q=2-31, 25 fps, 12800 tbn\r\n",
      "      Metadata:\r\n",
      "        encoder         : Lavc61.3.100 libx264\r\n",
      "      Side data:\r\n",
      "        cpb: bitrate max/min/avg: 0/0/0 buffer size: 0 vbv_delay: N/A\r\n",
      "\u001B[1;35m[out#0/mp4 @ 0x600003b5c000] \u001B[0mvideo:70KiB audio:0KiB subtitle:0KiB other streams:0KiB global headers:0KiB muxing overhead: 1.393583%\r\n",
      "frame=    9 fps=0.0 q=-1.0 Lsize=      71KiB time=00:00:07.56 bitrate=  77.1kbits/s speed=47.9x    \r\n",
      "\u001B[1;36m[libx264 @ 0x145007780] \u001B[0mframe I:1     Avg QP: 3.24  size: 40913\r\n",
      "\u001B[1;36m[libx264 @ 0x145007780] \u001B[0mframe P:7     Avg QP: 2.70  size:  4318\r\n",
      "\u001B[1;36m[libx264 @ 0x145007780] \u001B[0mframe B:1     Avg QP: 2.00  size:    72\r\n",
      "\u001B[1;36m[libx264 @ 0x145007780] \u001B[0mconsecutive B-frames: 77.8% 22.2%  0.0%  0.0%\r\n",
      "\u001B[1;36m[libx264 @ 0x145007780] \u001B[0mmb I  I16..4: 94.0%  0.5%  5.5%\r\n",
      "\u001B[1;36m[libx264 @ 0x145007780] \u001B[0mmb P  I16..4: 92.0%  0.1%  0.8%  P16..4:  7.1%  0.0%  0.0%  0.0%  0.0%    skip: 0.0%\r\n",
      "\u001B[1;36m[libx264 @ 0x145007780] \u001B[0mmb B  I16..4:  0.0%  0.0%  0.0%  B16..8:  0.0%  0.0%  0.0%  direct: 0.0%  skip:100.0%  L0: 0.0% L1:100.0% BI: 0.0%\r\n",
      "\u001B[1;36m[libx264 @ 0x145007780] \u001B[0m8x8 transform intra:0.1% inter:88.8%\r\n",
      "\u001B[1;36m[libx264 @ 0x145007780] \u001B[0mcoded y,uvDC,uvAC intra: 1.1% 0.8% 0.8% inter: 1.2% 0.3% 0.1%\r\n",
      "\u001B[1;36m[libx264 @ 0x145007780] \u001B[0mi16 v,h,dc,p: 99%  0%  0%  0%\r\n",
      "\u001B[1;36m[libx264 @ 0x145007780] \u001B[0mi8 v,h,dc,ddl,ddr,vr,hd,vl,hu: 28% 33% 20%  2%  2%  3%  3%  4%  4%\r\n",
      "\u001B[1;36m[libx264 @ 0x145007780] \u001B[0mi4 v,h,dc,ddl,ddr,vr,hd,vl,hu: 35% 23% 15%  3%  3%  5%  6%  4%  6%\r\n",
      "\u001B[1;36m[libx264 @ 0x145007780] \u001B[0mi8c dc,h,v,p: 99%  0%  0%  0%\r\n",
      "\u001B[1;36m[libx264 @ 0x145007780] \u001B[0mWeighted P-Frames: Y:0.0% UV:0.0%\r\n",
      "\u001B[1;36m[libx264 @ 0x145007780] \u001B[0mref P L0:  0.0%  0.0% 100.0%\r\n",
      "\u001B[1;36m[libx264 @ 0x145007780] \u001B[0mkb/s:50.68\r\n",
      "+ ffprobe -hide_banner -show_streams output.mp4\r\n",
      "+ grep --color duration=\r\n",
      "Input #0, mov,mp4,m4a,3gp,3g2,mj2, from 'output.mp4':\r\n",
      "  Metadata:\r\n",
      "    major_brand     : isom\r\n",
      "    minor_version   : 512\r\n",
      "    compatible_brands: isomiso2avc1mp41\r\n",
      "    encoder         : Lavf61.1.100\r\n",
      "  Duration: 00:00:10.04, start: 0.000000, bitrate: 58 kb/s\r\n",
      "  Stream #0:0[0x1](und): Video: h264 (High) (avc1 / 0x31637661), yuv420p(progressive), 1920x1080 [SAR 1:1 DAR 16:9], 57 kb/s, 0.89 fps, 25 tbr, 12800 tbn (default)\r\n",
      "      Metadata:\r\n",
      "        handler_name    : VideoHandler\r\n",
      "        vendor_id       : [0][0][0][0]\r\n",
      "        encoder         : Lavc61.3.100 libx264\r\n",
      "\u001B[01;31m\u001B[Kduration=\u001B[m\u001B[K10.040000\r\n"
     ]
    }
   ],
   "execution_count": 5
  },
  {
   "metadata": {},
   "cell_type": "markdown",
   "source": "Розберемо відео на фрейми, написавши в оверлей таймстампу фрейма. Це можна зробити параметром `pts` у фільтрі `drawtext`.",
   "id": "835d4976cdf3a408"
  },
  {
   "metadata": {
    "ExecuteTime": {
     "end_time": "2024-09-10T14:18:36.754926Z",
     "start_time": "2024-09-10T14:18:36.630743Z"
    }
   },
   "cell_type": "code",
   "source": "! cat extract.sh",
   "id": "d20bbadbc803b05c",
   "outputs": [
    {
     "name": "stdout",
     "output_type": "stream",
     "text": [
      "#!/bin/bash\r\n",
      "\r\n",
      "set -eux\r\n",
      "\r\n",
      "rm -frd ./tmp\r\n",
      "mkdir -p ./tmp\r\n",
      "ffmpeg -i output.mp4 -vf \"drawtext=fontfile=arialbd.ttf:fontsize=24:fontcolor=white:box=1:boxcolor=black@0.5:boxborderw=5:x=(w-tw)/2:y=h-th-10:text='%{pts\\:hms}'\" -vsync 0 ./tmp/output_frame_%d.png\r\n"
     ]
    }
   ],
   "execution_count": 6
  },
  {
   "metadata": {
    "ExecuteTime": {
     "end_time": "2024-09-10T14:18:37.113996Z",
     "start_time": "2024-09-10T14:18:36.761250Z"
    }
   },
   "cell_type": "code",
   "source": "! bash ./extract.sh &> /dev/null",
   "id": "8085d726e2b0a75e",
   "outputs": [],
   "execution_count": 7
  },
  {
   "metadata": {},
   "cell_type": "markdown",
   "source": [
    "Таймстампи мають розбіжності з \"плейлістом\". Так, другий фрейм мав би починатись на 1.26 секунді, натомість він починається 1.24\n",
    "\n",
    "![image](./tmp/output_frame_2.png)"
   ],
   "id": "472a0ac46f25922e"
  },
  {
   "metadata": {},
   "cell_type": "markdown",
   "source": "Висновок: `ffmpeg` працює неочікувано, таймстампи не відповідають заданим тривалостям.",
   "id": "153fde79423d0d9f"
  }
 ],
 "metadata": {
  "kernelspec": {
   "display_name": "Python 3",
   "language": "python",
   "name": "python3"
  },
  "language_info": {
   "codemirror_mode": {
    "name": "ipython",
    "version": 2
   },
   "file_extension": ".py",
   "mimetype": "text/x-python",
   "name": "python",
   "nbconvert_exporter": "python",
   "pygments_lexer": "ipython2",
   "version": "2.7.6"
  }
 },
 "nbformat": 4,
 "nbformat_minor": 5
}
