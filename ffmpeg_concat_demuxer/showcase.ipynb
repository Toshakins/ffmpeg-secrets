{
 "cells": [
  {
   "cell_type": "code",
   "id": "initial_id",
   "metadata": {
    "collapsed": true,
    "ExecuteTime": {
     "end_time": "2024-09-10T10:19:59.411339Z",
     "start_time": "2024-09-10T10:19:59.278551Z"
    }
   },
   "source": "! cat concat.txt",
   "outputs": [
    {
     "name": "stdout",
     "output_type": "stream",
     "text": [
      "file frames/black_frame.jpg\r\n",
      "duration 1.6666666666666667\r\n",
      "file frames/white_frame.jpg\r\n",
      "duration 1.6666666666666667\r\n",
      "file frames/black_frame.jpg\r\n",
      "duration 1.6666666666666667\r\n",
      "file frames/white_frame.jpg\r\n",
      "duration 2.5\r\n",
      "file frames/black_frame.jpg\r\n",
      "duration 2.5\r\n",
      "file frames/black_frame.jpg\r\n"
     ]
    }
   ],
   "execution_count": 2
  },
  {
   "metadata": {
    "ExecuteTime": {
     "end_time": "2024-09-10T10:20:19.958167Z",
     "start_time": "2024-09-10T10:20:19.822179Z"
    }
   },
   "cell_type": "code",
   "source": "! cat concat_count.sh",
   "id": "4e69db3f74e07a53",
   "outputs": [
    {
     "name": "stdout",
     "output_type": "stream",
     "text": [
      "#!/bin/bash\r\n",
      "\r\n",
      "set -eux\r\n",
      "\r\n",
      "grep duration concat.txt | awk '{ sum += $2 } END { print sum }'\r\n"
     ]
    }
   ],
   "execution_count": 3
  },
  {
   "metadata": {
    "ExecuteTime": {
     "end_time": "2024-09-10T10:20:36.190543Z",
     "start_time": "2024-09-10T10:20:36.042560Z"
    }
   },
   "cell_type": "code",
   "source": "! bash ./concat_count.sh",
   "id": "5dcafa0819d5fe5a",
   "outputs": [
    {
     "name": "stdout",
     "output_type": "stream",
     "text": [
      "+ grep duration concat.txt\r\n",
      "+ awk '{ sum += $2 } END { print sum }'\r\n",
      "10\r\n"
     ]
    }
   ],
   "execution_count": 6
  },
  {
   "metadata": {
    "ExecuteTime": {
     "end_time": "2024-09-10T10:21:24.892519Z",
     "start_time": "2024-09-10T10:21:24.767821Z"
    }
   },
   "cell_type": "code",
   "source": "! cat ./ffconcat.sh",
   "id": "1e139ad3a3784de7",
   "outputs": [
    {
     "name": "stdout",
     "output_type": "stream",
     "text": [
      "#!/bin/bash\r\n",
      "\r\n",
      "set -eux\r\n",
      "\r\n",
      "ffmpeg -hide_banner -f concat -i concat.txt -fps_mode vfr -pix_fmt yuv420p -c:v libx264 output.mp4 -y\r\n",
      "ffprobe -hide_banner -show_streams output.mp4 | grep --color \"duration=\"\r\n"
     ]
    }
   ],
   "execution_count": 7
  },
  {
   "metadata": {
    "ExecuteTime": {
     "end_time": "2024-09-10T10:22:35.173012Z",
     "start_time": "2024-09-10T10:22:34.827745Z"
    }
   },
   "cell_type": "code",
   "source": "! bash ./ffconcat.sh",
   "id": "3c05a2e59a19b47d",
   "outputs": [
    {
     "name": "stdout",
     "output_type": "stream",
     "text": [
      "+ ffmpeg -hide_banner -f concat -i concat.txt -fps_mode vfr -pix_fmt yuv420p -c:v libx264 output.mp4 -y\r\n",
      "Input #0, concat, from 'concat.txt':\r\n",
      "  Duration: N/A, start: 0.000000, bitrate: N/A\r\n",
      "  Stream #0:0: Video: mjpeg (Baseline), yuvj420p(pc, bt470bg/unknown/unknown), 1920x1080 [SAR 1:1 DAR 16:9], 25 fps, 25 tbr, 25 tbn\r\n",
      "Stream mapping:\r\n",
      "  Stream #0:0 -> #0:0 (mjpeg (native) -> h264 (libx264))\r\n",
      "Press [q] to stop, [?] for help\r\n",
      "\u001B[1;34m[swscaler @ 0x1280a8000] \u001B[0m\u001B[0;33mdeprecated pixel format used, make sure you did set range correctly\r\n",
      "\u001B[0m\u001B[1;34m[swscaler @ 0x138678000] \u001B[0m\u001B[0;33mdeprecated pixel format used, make sure you did set range correctly\r\n",
      "\u001B[0m\u001B[1;34m[swscaler @ 0x1180a8000] \u001B[0m\u001B[0;33mdeprecated pixel format used, make sure you did set range correctly\r\n",
      "\u001B[0m\u001B[1;34m[swscaler @ 0x120508000] \u001B[0m\u001B[0;33mdeprecated pixel format used, make sure you did set range correctly\r\n",
      "\u001B[0m\u001B[1;36m[libx264 @ 0x136608870] \u001B[0musing SAR=1/1\r\n",
      "\u001B[1;36m[libx264 @ 0x136608870] \u001B[0musing cpu capabilities: ARMv8 NEON\r\n",
      "\u001B[1;36m[libx264 @ 0x136608870] \u001B[0mprofile High, level 4.0, 4:2:0, 8-bit\r\n",
      "\u001B[1;36m[libx264 @ 0x136608870] \u001B[0m264 - core 164 r3108 31e19f9 - H.264/MPEG-4 AVC codec - Copyleft 2003-2023 - http://www.videolan.org/x264.html - options: cabac=1 ref=3 deblock=1:0:0 analyse=0x3:0x113 me=hex subme=7 psy=1 psy_rd=1.00:0.00 mixed_ref=1 me_range=16 chroma_me=1 trellis=1 8x8dct=1 cqm=0 deadzone=21,11 fast_pskip=1 chroma_qp_offset=-2 threads=15 lookahead_threads=2 sliced_threads=0 nr=0 decimate=1 interlaced=0 bluray_compat=0 constrained_intra=0 bframes=3 b_pyramid=2 b_adapt=1 b_bias=0 direct=1 weightb=1 open_gop=0 weightp=2 keyint=250 keyint_min=25 scenecut=40 intra_refresh=0 rc_lookahead=40 rc=crf mbtree=1 crf=23.0 qcomp=0.60 qpmin=0 qpmax=69 qpstep=4 ip_ratio=1.40 aq=1:1.00\r\n",
      "Output #0, mp4, to 'output.mp4':\r\n",
      "  Metadata:\r\n",
      "    encoder         : Lavf61.1.100\r\n",
      "  Stream #0:0: Video: h264 (avc1 / 0x31637661), yuv420p(progressive), 1920x1080 [SAR 1:1 DAR 16:9], q=2-31, 25 fps, 12800 tbn\r\n",
      "      Metadata:\r\n",
      "        encoder         : Lavc61.3.100 libx264\r\n",
      "      Side data:\r\n",
      "        cpb: bitrate max/min/avg: 0/0/0 buffer size: 0 vbv_delay: N/A\r\n",
      "\u001B[1;35m[out#0/mp4 @ 0x60000173c3c0] \u001B[0mvideo:68KiB audio:0KiB subtitle:0KiB other streams:0KiB global headers:0KiB muxing overhead: 1.384033%\r\n",
      "frame=    6 fps=0.0 q=-1.0 Lsize=      69KiB time=00:00:05.04 bitrate= 112.3kbits/s speed=41.9x    \r\n",
      "\u001B[1;36m[libx264 @ 0x136608870] \u001B[0mframe I:1     Avg QP: 3.24  size: 40913\r\n",
      "\u001B[1;36m[libx264 @ 0x136608870] \u001B[0mframe P:4     Avg QP: 3.01  size:  7028\r\n",
      "\u001B[1;36m[libx264 @ 0x136608870] \u001B[0mframe B:1     Avg QP: 2.00  size:    80\r\n",
      "\u001B[1;36m[libx264 @ 0x136608870] \u001B[0mconsecutive B-frames: 66.7% 33.3%  0.0%  0.0%\r\n",
      "\u001B[1;36m[libx264 @ 0x136608870] \u001B[0mmb I  I16..4: 94.0%  0.5%  5.5%\r\n",
      "\u001B[1;36m[libx264 @ 0x136608870] \u001B[0mmb P  I16..4: 92.2%  0.1%  1.4%  P16..4:  6.3%  0.0%  0.0%  0.0%  0.0%    skip: 0.0%\r\n",
      "\u001B[1;36m[libx264 @ 0x136608870] \u001B[0mmb B  I16..4:  0.0%  0.0%  0.0%  B16..8:  0.0%  0.0%  0.0%  direct: 0.0%  skip:100.0%  L0:66.7% L1:33.3% BI: 0.0%\r\n",
      "\u001B[1;36m[libx264 @ 0x136608870] \u001B[0m8x8 transform intra:0.2% inter:88.6%\r\n",
      "\u001B[1;36m[libx264 @ 0x136608870] \u001B[0mcoded y,uvDC,uvAC intra: 1.7% 1.3% 1.2% inter: 1.3% 0.3% 0.1%\r\n",
      "\u001B[1;36m[libx264 @ 0x136608870] \u001B[0mi16 v,h,dc,p: 99%  0%  1%  0%\r\n",
      "\u001B[1;36m[libx264 @ 0x136608870] \u001B[0mi8 v,h,dc,ddl,ddr,vr,hd,vl,hu: 29% 33% 19%  3%  2%  3%  3%  4%  3%\r\n",
      "\u001B[1;36m[libx264 @ 0x136608870] \u001B[0mi4 v,h,dc,ddl,ddr,vr,hd,vl,hu: 35% 23% 15%  3%  3%  5%  6%  4%  6%\r\n",
      "\u001B[1;36m[libx264 @ 0x136608870] \u001B[0mi8c dc,h,v,p: 99%  0%  0%  0%\r\n",
      "\u001B[1;36m[libx264 @ 0x136608870] \u001B[0mWeighted P-Frames: Y:0.0% UV:0.0%\r\n",
      "\u001B[1;36m[libx264 @ 0x136608870] \u001B[0mref P L0:  0.0%  0.0% 100.0%\r\n",
      "\u001B[1;36m[libx264 @ 0x136608870] \u001B[0mref B L0:  0.0% 100.0%\r\n",
      "\u001B[1;36m[libx264 @ 0x136608870] \u001B[0mkb/s:44.16\r\n",
      "+ ffprobe -hide_banner -show_streams output.mp4\r\n",
      "+ grep --color duration=\r\n",
      "Input #0, mov,mp4,m4a,3gp,3g2,mj2, from 'output.mp4':\r\n",
      "  Metadata:\r\n",
      "    major_brand     : isom\r\n",
      "    minor_version   : 512\r\n",
      "    compatible_brands: isomiso2avc1mp41\r\n",
      "    encoder         : Lavf61.1.100\r\n",
      "  Duration: 00:00:08.36, start: 0.000000, bitrate: 67 kb/s\r\n",
      "  Stream #0:0[0x1](und): Video: h264 (High) (avc1 / 0x31637661), yuv420p(progressive), 1920x1080 [SAR 1:1 DAR 16:9], 66 kb/s, 0.72 fps, 25 tbr, 12800 tbn (default)\r\n",
      "      Metadata:\r\n",
      "        handler_name    : VideoHandler\r\n",
      "        vendor_id       : [0][0][0][0]\r\n",
      "        encoder         : Lavc61.3.100 libx264\r\n",
      "\u001B[01;31m\u001B[Kduration=\u001B[m\u001B[K8.360000\r\n"
     ]
    }
   ],
   "execution_count": 10
  },
  {
   "metadata": {},
   "cell_type": "markdown",
   "source": "**Duration** from ffprobe is not equal to duration we set through `concat.txt` file. We can use `drawtext` filter with `pts` parameter to output frame timestamp.",
   "id": "835d4976cdf3a408"
  },
  {
   "metadata": {
    "ExecuteTime": {
     "end_time": "2024-09-10T10:22:48.173243Z",
     "start_time": "2024-09-10T10:22:48.014772Z"
    }
   },
   "cell_type": "code",
   "source": "! cat extract.sh",
   "id": "d20bbadbc803b05c",
   "outputs": [
    {
     "name": "stdout",
     "output_type": "stream",
     "text": [
      "#!/bin/bash\r\n",
      "\r\n",
      "set -eux\r\n",
      "\r\n",
      "rm -frd ./tmp\r\n",
      "mkdir -p ./tmp\r\n",
      "ffmpeg -i output.mp4 -vf \"drawtext=fontfile=arialbd.ttf:fontsize=24:fontcolor=white:box=1:boxcolor=black@0.5:boxborderw=5:x=(w-tw)/2:y=h-th-10:text='%{pts\\:hms}'\" -vsync 0 ./tmp/output_frame_%d.png\r\n"
     ]
    }
   ],
   "execution_count": 11
  },
  {
   "metadata": {
    "ExecuteTime": {
     "end_time": "2024-09-10T10:23:01.021770Z",
     "start_time": "2024-09-10T10:23:00.519880Z"
    }
   },
   "cell_type": "code",
   "source": "! bash ./extract.sh",
   "id": "8085d726e2b0a75e",
   "outputs": [
    {
     "name": "stdout",
     "output_type": "stream",
     "text": [
      "+ rm -frd ./tmp\r\n",
      "+ mkdir -p ./tmp\r\n",
      "+ ffmpeg -i output.mp4 -vf 'drawtext=fontfile=arialbd.ttf:fontsize=24:fontcolor=white:box=1:boxcolor=black@0.5:boxborderw=5:x=(w-tw)/2:y=h-th-10:text='\\''%{pts\\:hms}'\\''' -vsync 0 ./tmp/output_frame_%d.png\r\n",
      "ffmpeg version 7.0.1 Copyright (c) 2000-2024 the FFmpeg developers\r\n",
      "  built with Apple clang version 15.0.0 (clang-1500.3.9.4)\r\n",
      "  configuration: --prefix=/opt/homebrew/Cellar/ffmpeg/7.0.1 --enable-shared --enable-pthreads --enable-version3 --cc=clang --host-cflags= --host-ldflags='-Wl,-ld_classic' --enable-ffplay --enable-gnutls --enable-gpl --enable-libaom --enable-libaribb24 --enable-libbluray --enable-libdav1d --enable-libharfbuzz --enable-libjxl --enable-libmp3lame --enable-libopus --enable-librav1e --enable-librist --enable-librubberband --enable-libsnappy --enable-libsrt --enable-libssh --enable-libsvtav1 --enable-libtesseract --enable-libtheora --enable-libvidstab --enable-libvmaf --enable-libvorbis --enable-libvpx --enable-libwebp --enable-libx264 --enable-libx265 --enable-libxml2 --enable-libxvid --enable-lzma --enable-libfontconfig --enable-libfreetype --enable-frei0r --enable-libass --enable-libopencore-amrnb --enable-libopencore-amrwb --enable-libopenjpeg --enable-libspeex --enable-libsoxr --enable-libzmq --enable-libzimg --disable-libjack --disable-indev=jack --enable-videotoolbox --enable-audiotoolbox --enable-neon\r\n",
      "  libavutil      59.  8.100 / 59.  8.100\r\n",
      "  libavcodec     61.  3.100 / 61.  3.100\r\n",
      "  libavformat    61.  1.100 / 61.  1.100\r\n",
      "  libavdevice    61.  1.100 / 61.  1.100\r\n",
      "  libavfilter    10.  1.100 / 10.  1.100\r\n",
      "  libswscale      8.  1.100 /  8.  1.100\r\n",
      "  libswresample   5.  1.100 /  5.  1.100\r\n",
      "  libpostproc    58.  1.100 / 58.  1.100\r\n",
      "\u001B[0;33m-vsync is deprecated. Use -fps_mode\r\n",
      "\u001B[0m\u001B[0;33mPassing a number to -vsync is deprecated, use a string argument as described in the manual.\r\n",
      "\u001B[0mInput #0, mov,mp4,m4a,3gp,3g2,mj2, from 'output.mp4':\r\n",
      "  Metadata:\r\n",
      "    major_brand     : isom\r\n",
      "    minor_version   : 512\r\n",
      "    compatible_brands: isomiso2avc1mp41\r\n",
      "    encoder         : Lavf61.1.100\r\n",
      "  Duration: 00:00:08.36, start: 0.000000, bitrate: 67 kb/s\r\n",
      "  Stream #0:0[0x1](und): Video: h264 (High) (avc1 / 0x31637661), yuv420p(progressive), 1920x1080 [SAR 1:1 DAR 16:9], 66 kb/s, 0.72 fps, 25 tbr, 12800 tbn (default)\r\n",
      "      Metadata:\r\n",
      "        handler_name    : VideoHandler\r\n",
      "        vendor_id       : [0][0][0][0]\r\n",
      "        encoder         : Lavc61.3.100 libx264\r\n",
      "Stream mapping:\r\n",
      "  Stream #0:0 -> #0:0 (h264 (native) -> png (native))\r\n",
      "Press [q] to stop, [?] for help\r\n",
      "\u001B[1;34m[swscaler @ 0x1489b0000] \u001B[0m\u001B[1;34m[swscaler @ 0x1700f8000] \u001B[0m\u001B[0;33mNo accelerated colorspace conversion found from yuv420p to rgb24.\r\n",
      "\u001B[0m\u001B[1;34m[swscaler @ 0x1489b0000] \u001B[0m\u001B[1;34m[swscaler @ 0x138028000] \u001B[0m\u001B[0;33mNo accelerated colorspace conversion found from yuv420p to rgb24.\r\n",
      "\u001B[0m\u001B[1;34m[swscaler @ 0x1489b0000] \u001B[0m\u001B[1;34m[swscaler @ 0x138038000] \u001B[0m\u001B[0;33mNo accelerated colorspace conversion found from yuv420p to rgb24.\r\n",
      "\u001B[0m\u001B[1;34m[swscaler @ 0x1489b0000] \u001B[0m\u001B[1;34m[swscaler @ 0x138048000] \u001B[0m\u001B[0;33mNo accelerated colorspace conversion found from yuv420p to rgb24.\r\n",
      "\u001B[0m\u001B[1;34m[swscaler @ 0x1489b0000] \u001B[0m\u001B[1;34m[swscaler @ 0x138058000] \u001B[0m\u001B[0;33mNo accelerated colorspace conversion found from yuv420p to rgb24.\r\n",
      "\u001B[0m\u001B[1;34m[swscaler @ 0x1489b0000] \u001B[0m\u001B[1;34m[swscaler @ 0x138068000] \u001B[0m\u001B[0;33mNo accelerated colorspace conversion found from yuv420p to rgb24.\r\n",
      "\u001B[0m\u001B[1;34m[swscaler @ 0x1489b0000] \u001B[0m\u001B[1;34m[swscaler @ 0x138078000] \u001B[0m\u001B[0;33mNo accelerated colorspace conversion found from yuv420p to rgb24.\r\n",
      "\u001B[0m\u001B[1;34m[swscaler @ 0x1489b0000] \u001B[0m\u001B[1;34m[swscaler @ 0x138088000] \u001B[0m\u001B[0;33mNo accelerated colorspace conversion found from yuv420p to rgb24.\r\n",
      "\u001B[0m\u001B[1;34m[swscaler @ 0x1489b0000] \u001B[0m\u001B[1;34m[swscaler @ 0x138098000] \u001B[0m\u001B[0;33mNo accelerated colorspace conversion found from yuv420p to rgb24.\r\n",
      "\u001B[0m\u001B[1;34m[swscaler @ 0x1489b0000] \u001B[0m\u001B[1;34m[swscaler @ 0x1380a8000] \u001B[0m\u001B[0;33mNo accelerated colorspace conversion found from yuv420p to rgb24.\r\n",
      "\u001B[0m\u001B[1;34m[swscaler @ 0x1489b0000] \u001B[0m\u001B[1;34m[swscaler @ 0x170108000] \u001B[0m\u001B[0;33mNo accelerated colorspace conversion found from yuv420p to rgb24.\r\n",
      "\u001B[0mOutput #0, image2, to './tmp/output_frame_%d.png':\r\n",
      "  Metadata:\r\n",
      "    major_brand     : isom\r\n",
      "    minor_version   : 512\r\n",
      "    compatible_brands: isomiso2avc1mp41\r\n",
      "    encoder         : Lavf61.1.100\r\n",
      "  Stream #0:0(und): Video: png, rgb24(pc, gbr/unknown/unknown, progressive), 1920x1080 [SAR 1:1 DAR 16:9], q=2-31, 200 kb/s, 25 fps, 25 tbn (default)\r\n",
      "      Metadata:\r\n",
      "        handler_name    : VideoHandler\r\n",
      "        vendor_id       : [0][0][0][0]\r\n",
      "        encoder         : Lavc61.3.100 png\r\n",
      "\u001B[1;35m[out#0/image2 @ 0x600000954000] \u001B[0mvideo:896KiB audio:0KiB subtitle:0KiB other streams:0KiB global headers:0KiB muxing overhead: unknown\r\n",
      "frame=    6 fps=0.0 q=-0.0 Lsize=N/A time=00:00:10.04 bitrate=N/A speed=79.4x    \r\n"
     ]
    }
   ],
   "execution_count": 12
  },
  {
   "metadata": {},
   "cell_type": "markdown",
   "source": [
    "Frame number 5 must have a timestamp pointing to 7.5 seconds(it's a penultimate frame). However, it has 7.48 as shown below.\n",
    "\n",
    "![image](./tmp/output_frame_5.png)"
   ],
   "id": "5754e21d92537dd7"
  },
  {
   "metadata": {},
   "cell_type": "code",
   "outputs": [],
   "execution_count": null,
   "source": "",
   "id": "7f8affb69978aef"
  }
 ],
 "metadata": {
  "kernelspec": {
   "display_name": "Python 3",
   "language": "python",
   "name": "python3"
  },
  "language_info": {
   "codemirror_mode": {
    "name": "ipython",
    "version": 2
   },
   "file_extension": ".py",
   "mimetype": "text/x-python",
   "name": "python",
   "nbconvert_exporter": "python",
   "pygments_lexer": "ipython2",
   "version": "2.7.6"
  }
 },
 "nbformat": 4,
 "nbformat_minor": 5
}
